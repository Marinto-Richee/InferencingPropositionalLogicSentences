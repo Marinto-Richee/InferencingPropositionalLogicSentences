{
 "cells": [
  {
   "cell_type": "code",
   "execution_count": 1,
   "metadata": {},
   "outputs": [],
   "source": [
    "from utils import *\n",
    "from logic import *"
   ]
  },
  {
   "cell_type": "markdown",
   "metadata": {},
   "source": [
    "## Operators for Constructing Logical Sentences\n",
    "\n",
    "Here is a table of the operators that can be used to form sentences. Note that we have a problem: we want to use Python operators to make sentences, so that our programs (and our interactive sessions like the one here) will show simple code. But Python does not allow implication arrows as operators, so for now we have to use a more verbose notation that Python does allow: `|'==>'|` instead of just `==>`. Alternately, you can always use the more verbose `Expr` constructor forms:\n",
    "\n",
    "| Operation                | Book | Python Infix Input | Python Output | Python `Expr` Input\n",
    "|--------------------------|----------------------|-------------------------|---|---|\n",
    "| Negation                 | &not; P      | `~P`                       | `~P` | `Expr('~', P)`\n",
    "| And                      | P &and; Q       | `P & Q`                     | `P & Q` | `Expr('&', P, Q)`\n",
    "| Or                       | P &or; Q | `P`<tt> &#124; </tt>`Q`| `P`<tt> &#124; </tt>`Q` | `Expr('`&#124;`', P, Q)`\n",
    "| Inequality (Xor)         | P &ne; Q     | `P ^ Q`                | `P ^ Q`  | `Expr('^', P, Q)`\n",
    "| Implication                  | P &rarr; Q    | `P` <tt>&#124;</tt>`'==>'`<tt>&#124;</tt> `Q`   | `P ==> Q` | `Expr('==>', P, Q)`\n",
    "| Reverse Implication      | Q &larr; P     | `Q` <tt>&#124;</tt>`'<=='`<tt>&#124;</tt> `P`  |`Q <== P` | `Expr('<==', Q, P)`\n",
    "| Equivalence            | P &harr; Q   | `P` <tt>&#124;</tt>`'<=>'`<tt>&#124;</tt> `Q`   |`P <=> Q` | `Expr('<=>', P, Q)`\n",
    "\n"
   ]
  },
  {
   "cell_type": "markdown",
   "metadata": {},
   "source": [
    "https://thiagodnf.github.io/wumpus-world-simulator/"
   ]
  },
  {
   "cell_type": "markdown",
   "metadata": {},
   "source": [
    "![alt text for screen readers](./images/wumpus-world.jpg \"Text to show on mouseover\")"
   ]
  },
  {
   "cell_type": "markdown",
   "metadata": {},
   "source": [
    "![alt text for screen readers](./images/variables.png \"Text to show on mouseover\")"
   ]
  },
  {
   "cell_type": "markdown",
   "metadata": {},
   "source": [
    "## Wumpus World KB"
   ]
  },
  {
   "cell_type": "code",
   "execution_count": 2,
   "metadata": {},
   "outputs": [],
   "source": [
    "wumpus_kb = PropKB()"
   ]
  },
  {
   "cell_type": "code",
   "execution_count": 3,
   "metadata": {},
   "outputs": [],
   "source": [
    "#wumpus_kb.ask_if_true(~P22)"
   ]
  },
  {
   "cell_type": "code",
   "execution_count": 4,
   "metadata": {},
   "outputs": [],
   "source": [
    "#wumpus_kb.tell(B11 | '<=>' | ((P12 | P21)))\n",
    "#wumpus_kb.tell(B21 | '<=>' | ((P11 | P22 | P31)))"
   ]
  },
  {
   "cell_type": "code",
   "execution_count": 5,
   "metadata": {},
   "outputs": [],
   "source": [
    "#wumpus_kb.clauses"
   ]
  },
  {
   "cell_type": "code",
   "execution_count": 6,
   "metadata": {},
   "outputs": [
    {
     "data": {
      "text/plain": [
       "'P11,P12,P13,P21,P22,P23,P31,P32,P33,B11,B12,B13,B21,B22,B23,B31,B32,B33,W11,W12,W13,W21,W22,W23,W31,W32,W33,S11,S12,S13,S21,S22,S23,S31,S32,S33,OK11,OK12,OK13,OK21,OK22,OK23,OK31,OK32,OK33'"
      ]
     },
     "execution_count": 6,
     "metadata": {},
     "output_type": "execute_result"
    }
   ],
   "source": [
    "char=['P','B','W','S','OK']\n",
    "abc=''\n",
    "ind=[1,2,3]\n",
    "for i in char:\n",
    "    for x in ind:\n",
    "        for y in ind:\n",
    "            abc=abc+(str(i)+str(x)+str(y))+','\n",
    "abc=abc[0:-1]\n",
    "abc"
   ]
  },
  {
   "cell_type": "code",
   "execution_count": 7,
   "metadata": {},
   "outputs": [
    {
     "data": {
      "text/plain": [
       "'char=[\\'OK\\']\\nabc=\\'\\'\\nind=[1,2,3]\\nfor i in char:\\n    for x in ind:\\n        for y in ind:\\n            abc=abc+(str(i)+str(x)+str(y))+\"| \\'<=>\\' | ((W\"+str(x)+str(y)+\" | P\"+str(x)+str(y)+\"))    \"\\nabc=abc[0:-1]\\nabc'"
      ]
     },
     "execution_count": 7,
     "metadata": {},
     "output_type": "execute_result"
    }
   ],
   "source": [
    "'''char=['OK']\n",
    "abc=''\n",
    "ind=[1,2,3]\n",
    "for i in char:\n",
    "    for x in ind:\n",
    "        for y in ind:\n",
    "            abc=abc+(str(i)+str(x)+str(y))+\"| '<=>' | ((W\"+str(x)+str(y)+\" | P\"+str(x)+str(y)+\"))    \"\n",
    "abc=abc[0:-1]\n",
    "abc'''"
   ]
  },
  {
   "cell_type": "code",
   "execution_count": 8,
   "metadata": {},
   "outputs": [],
   "source": [
    "P11,P12,P13,P21,P22,P23,P31,P32,P33,B11,B12,B13,B21,B22,B23,B31,B32,B33,W11,W12,W13,W21,W22,W23,W31,W32,W33,S11,S12,S13,S21,S22,S23,S31,S32,S33,OK11,OK12,OK13,OK21,OK22,OK23,OK31,OK32,OK33=expr(abc)"
   ]
  },
  {
   "cell_type": "code",
   "execution_count": 9,
   "metadata": {},
   "outputs": [],
   "source": [
    "wumpus_kb.tell(B11 | '<=>' | ((P12 | P21)))\n",
    "wumpus_kb.tell(B31 | '<=>' | ((P32 | P21)))\n",
    "wumpus_kb.tell(B13 | '<=>' | ((P12 | P23)))\n",
    "wumpus_kb.tell(B33 | '<=>' | ((P23 | P32)))\n",
    "wumpus_kb.tell(B12 | '<=>' | ((P11 | P22 | P13)))\n",
    "wumpus_kb.tell(B21 | '<=>' | ((P11 | P22 | P31)))\n",
    "wumpus_kb.tell(B32 | '<=>' | ((P31 | P22 | P33)))\n",
    "wumpus_kb.tell(B23 | '<=>' | ((P13 | P22 | P33)))\n",
    "wumpus_kb.tell(B22 | '<=>' | ((P21 | P12 | P23 | P32)))"
   ]
  },
  {
   "cell_type": "code",
   "execution_count": 10,
   "metadata": {},
   "outputs": [],
   "source": [
    "wumpus_kb.tell(S11 | '<=>' | ((W12 | W21)))\n",
    "wumpus_kb.tell(S31 | '<=>' | ((W32 | W21)))\n",
    "wumpus_kb.tell(S13 | '<=>' | ((W12 | W23)))\n",
    "wumpus_kb.tell(S33 | '<=>' | ((W23 | W32)))\n",
    "wumpus_kb.tell(S12 | '<=>' | ((W11 | W22 | W13)))\n",
    "wumpus_kb.tell(S21 | '<=>' | ((W11 | W22 | W31)))\n",
    "wumpus_kb.tell(S32 | '<=>' | ((W31 | W22 | W33)))\n",
    "wumpus_kb.tell(S23 | '<=>' | ((W13 | W22 | W33)))\n",
    "wumpus_kb.tell(S22 | '<=>' | ((W21 | W12 | W23 | W32)))"
   ]
  },
  {
   "cell_type": "code",
   "execution_count": 11,
   "metadata": {},
   "outputs": [],
   "source": [
    "wumpus_kb.tell(~OK11| '<=>' | ((W11 | P11)))\n",
    "wumpus_kb.tell(~OK12| '<=>' | ((W12 | P12)))\n",
    "wumpus_kb.tell(~OK13| '<=>' | ((W13 | P13)))\n",
    "wumpus_kb.tell(~OK21| '<=>' | ((W21 | P21)))\n",
    "wumpus_kb.tell(~OK22| '<=>' | ((W22 | P22)))\n",
    "wumpus_kb.tell(~OK23| '<=>' | ((W23 | P23)))\n",
    "wumpus_kb.tell(~OK31| '<=>' | ((W31 | P31)))\n",
    "wumpus_kb.tell(~OK32| '<=>' | ((W32 | P32)))\n",
    "wumpus_kb.tell(~OK33| '<=>' | ((W33 | P33)))"
   ]
  },
  {
   "cell_type": "code",
   "execution_count": 12,
   "metadata": {},
   "outputs": [
    {
     "data": {
      "text/plain": [
       "[(~P12 | B11),\n",
       " (~P21 | B11),\n",
       " (P12 | P21 | ~B11),\n",
       " (~P32 | B31),\n",
       " (~P21 | B31),\n",
       " (P32 | P21 | ~B31),\n",
       " (~P12 | B13),\n",
       " (~P23 | B13),\n",
       " (P12 | P23 | ~B13),\n",
       " (~P23 | B33),\n",
       " (~P32 | B33),\n",
       " (P23 | P32 | ~B33),\n",
       " (~P11 | B12),\n",
       " (~P22 | B12),\n",
       " (~P13 | B12),\n",
       " (P11 | P22 | P13 | ~B12),\n",
       " (~P11 | B21),\n",
       " (~P22 | B21),\n",
       " (~P31 | B21),\n",
       " (P11 | P22 | P31 | ~B21),\n",
       " (~P31 | B32),\n",
       " (~P22 | B32),\n",
       " (~P33 | B32),\n",
       " (P31 | P22 | P33 | ~B32),\n",
       " (~P13 | B23),\n",
       " (~P22 | B23),\n",
       " (~P33 | B23),\n",
       " (P13 | P22 | P33 | ~B23),\n",
       " (~P21 | B22),\n",
       " (~P12 | B22),\n",
       " (~P23 | B22),\n",
       " (~P32 | B22),\n",
       " (P21 | P12 | P23 | P32 | ~B22),\n",
       " (~W12 | S11),\n",
       " (~W21 | S11),\n",
       " (W12 | W21 | ~S11),\n",
       " (~W32 | S31),\n",
       " (~W21 | S31),\n",
       " (W32 | W21 | ~S31),\n",
       " (~W12 | S13),\n",
       " (~W23 | S13),\n",
       " (W12 | W23 | ~S13),\n",
       " (~W23 | S33),\n",
       " (~W32 | S33),\n",
       " (W23 | W32 | ~S33),\n",
       " (~W11 | S12),\n",
       " (~W22 | S12),\n",
       " (~W13 | S12),\n",
       " (W11 | W22 | W13 | ~S12),\n",
       " (~W11 | S21),\n",
       " (~W22 | S21),\n",
       " (~W31 | S21),\n",
       " (W11 | W22 | W31 | ~S21),\n",
       " (~W31 | S32),\n",
       " (~W22 | S32),\n",
       " (~W33 | S32),\n",
       " (W31 | W22 | W33 | ~S32),\n",
       " (~W13 | S23),\n",
       " (~W22 | S23),\n",
       " (~W33 | S23),\n",
       " (W13 | W22 | W33 | ~S23),\n",
       " (~W21 | S22),\n",
       " (~W12 | S22),\n",
       " (~W23 | S22),\n",
       " (~W32 | S22),\n",
       " (W21 | W12 | W23 | W32 | ~S22),\n",
       " (~W11 | ~OK11),\n",
       " (~P11 | ~OK11),\n",
       " (W11 | P11 | OK11),\n",
       " (~W12 | ~OK12),\n",
       " (~P12 | ~OK12),\n",
       " (W12 | P12 | OK12),\n",
       " (~W13 | ~OK13),\n",
       " (~P13 | ~OK13),\n",
       " (W13 | P13 | OK13),\n",
       " (~W21 | ~OK21),\n",
       " (~P21 | ~OK21),\n",
       " (W21 | P21 | OK21),\n",
       " (~W22 | ~OK22),\n",
       " (~P22 | ~OK22),\n",
       " (W22 | P22 | OK22),\n",
       " (~W23 | ~OK23),\n",
       " (~P23 | ~OK23),\n",
       " (W23 | P23 | OK23),\n",
       " (~W31 | ~OK31),\n",
       " (~P31 | ~OK31),\n",
       " (W31 | P31 | OK31),\n",
       " (~W32 | ~OK32),\n",
       " (~P32 | ~OK32),\n",
       " (W32 | P32 | OK32),\n",
       " (~W33 | ~OK33),\n",
       " (~P33 | ~OK33),\n",
       " (W33 | P33 | OK33)]"
      ]
     },
     "execution_count": 12,
     "metadata": {},
     "output_type": "execute_result"
    }
   ],
   "source": [
    "wumpus_kb.clauses"
   ]
  },
  {
   "cell_type": "code",
   "execution_count": 13,
   "metadata": {},
   "outputs": [],
   "source": [
    "# 1,1\n",
    "wumpus_kb.tell(~P11)\n",
    "wumpus_kb.tell(~W11)\n",
    "wumpus_kb.tell(~S11)\n",
    "wumpus_kb.tell(~B11)"
   ]
  },
  {
   "cell_type": "code",
   "execution_count": 14,
   "metadata": {},
   "outputs": [],
   "source": [
    "# 2,1\n",
    "wumpus_kb.tell(~P21)\n",
    "wumpus_kb.tell(~W21)\n",
    "wumpus_kb.tell(S21)\n",
    "wumpus_kb.tell(~B21)"
   ]
  },
  {
   "cell_type": "code",
   "execution_count": 15,
   "metadata": {},
   "outputs": [],
   "source": [
    "# 3,1\n",
    "wumpus_kb.tell(~P31)\n",
    "wumpus_kb.tell(W31)\n",
    "wumpus_kb.tell(~S31)\n",
    "wumpus_kb.tell(~B31)"
   ]
  },
  {
   "cell_type": "code",
   "execution_count": 16,
   "metadata": {},
   "outputs": [],
   "source": [
    "# 1,2\n",
    "wumpus_kb.tell(~P12)\n",
    "wumpus_kb.tell(~W12)\n",
    "wumpus_kb.tell(~S12)\n",
    "wumpus_kb.tell(~B12)"
   ]
  },
  {
   "cell_type": "code",
   "execution_count": 17,
   "metadata": {},
   "outputs": [],
   "source": [
    "# 2,2\n",
    "wumpus_kb.tell(~P22)\n",
    "wumpus_kb.tell(~W22)\n",
    "wumpus_kb.tell(~S22)\n",
    "wumpus_kb.tell(~B22)"
   ]
  },
  {
   "cell_type": "code",
   "execution_count": 18,
   "metadata": {},
   "outputs": [],
   "source": [
    "# 3,2\n",
    "wumpus_kb.tell(~P32)\n",
    "wumpus_kb.tell(~W32)\n",
    "wumpus_kb.tell(S32)\n",
    "wumpus_kb.tell(B32)"
   ]
  },
  {
   "cell_type": "code",
   "execution_count": 19,
   "metadata": {},
   "outputs": [],
   "source": [
    "# 1,3\n",
    "wumpus_kb.tell(~P13)\n",
    "wumpus_kb.tell(~W13)\n",
    "wumpus_kb.tell(~S13)\n",
    "wumpus_kb.tell(~B13)"
   ]
  },
  {
   "cell_type": "code",
   "execution_count": 20,
   "metadata": {},
   "outputs": [],
   "source": [
    "# 2,3\n",
    "wumpus_kb.tell(~P23)\n",
    "wumpus_kb.tell(~W23)\n",
    "wumpus_kb.tell(~S23)\n",
    "wumpus_kb.tell(B23)"
   ]
  },
  {
   "cell_type": "code",
   "execution_count": 21,
   "metadata": {},
   "outputs": [],
   "source": [
    "#3,3\n",
    "wumpus_kb.tell(P33)\n",
    "wumpus_kb.tell(~W33)\n",
    "wumpus_kb.tell(~S33)\n",
    "wumpus_kb.tell(~B33)"
   ]
  },
  {
   "cell_type": "code",
   "execution_count": 22,
   "metadata": {},
   "outputs": [],
   "source": [
    "wumpus_kb.ask_if_true(OK22)"
   ]
  }
 ],
 "metadata": {
  "kernelspec": {
   "display_name": "Python 3.7.13 ('Directml')",
   "language": "python",
   "name": "python3"
  },
  "language_info": {
   "codemirror_mode": {
    "name": "ipython",
    "version": 3
   },
   "file_extension": ".py",
   "mimetype": "text/x-python",
   "name": "python",
   "nbconvert_exporter": "python",
   "pygments_lexer": "ipython3",
   "version": "3.7.13"
  },
  "vscode": {
   "interpreter": {
    "hash": "367420236152cb6c898d653af277ac09c496e9c6d105fe2a08d60c061a19c7c7"
   }
  }
 },
 "nbformat": 4,
 "nbformat_minor": 4
}
