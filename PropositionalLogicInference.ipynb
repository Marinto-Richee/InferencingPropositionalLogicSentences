{
 "cells": [
  {
   "cell_type": "code",
   "execution_count": 18,
   "metadata": {},
   "outputs": [],
   "source": [
    "from utils import *\n",
    "from logic import *"
   ]
  },
  {
   "cell_type": "markdown",
   "metadata": {},
   "source": [
    "## Operators for Constructing Logical Sentences\n",
    "\n",
    "Here is a table of the operators that can be used to form sentences. Note that we have a problem: we want to use Python operators to make sentences, so that our programs (and our interactive sessions like the one here) will show simple code. But Python does not allow implication arrows as operators, so for now we have to use a more verbose notation that Python does allow: `|'==>'|` instead of just `==>`. Alternately, you can always use the more verbose `Expr` constructor forms:\n",
    "\n",
    "| Operation                | Book | Python Infix Input | Python Output | Python `Expr` Input\n",
    "|--------------------------|----------------------|-------------------------|---|---|\n",
    "| Negation                 | &not; P      | `~P`                       | `~P` | `Expr('~', P)`\n",
    "| And                      | P &and; Q       | `P & Q`                     | `P & Q` | `Expr('&', P, Q)`\n",
    "| Or                       | P &or; Q | `P`<tt> &#124; </tt>`Q`| `P`<tt> &#124; </tt>`Q` | `Expr('`&#124;`', P, Q)`\n",
    "| Inequality (Xor)         | P &ne; Q     | `P ^ Q`                | `P ^ Q`  | `Expr('^', P, Q)`\n",
    "| Implication                  | P &rarr; Q    | `P` <tt>&#124;</tt>`'==>'`<tt>&#124;</tt> `Q`   | `P ==> Q` | `Expr('==>', P, Q)`\n",
    "| Reverse Implication      | Q &larr; P     | `Q` <tt>&#124;</tt>`'<=='`<tt>&#124;</tt> `P`  |`Q <== P` | `Expr('<==', Q, P)`\n",
    "| Equivalence            | P &harr; Q   | `P` <tt>&#124;</tt>`'<=>'`<tt>&#124;</tt> `Q`   |`P <=> Q` | `Expr('<=>', P, Q)`\n",
    "\n"
   ]
  },
  {
   "cell_type": "markdown",
   "metadata": {},
   "source": [
    "https://thiagodnf.github.io/wumpus-world-simulator/"
   ]
  },
  {
   "cell_type": "markdown",
   "metadata": {},
   "source": [
    "![alt text for screen readers](./images/wumpus-world.jpg \"Text to show on mouseover\")"
   ]
  },
  {
   "cell_type": "markdown",
   "metadata": {},
   "source": [
    "![alt text for screen readers](./images/variables.png \"Text to show on mouseover\")"
   ]
  },
  {
   "cell_type": "markdown",
   "metadata": {},
   "source": [
    "## Wumpus World KB"
   ]
  },
  {
   "cell_type": "code",
   "execution_count": 19,
   "metadata": {},
   "outputs": [],
   "source": [
    "wumpus_kb = PropKB()"
   ]
  },
  {
   "cell_type": "code",
   "execution_count": 20,
   "metadata": {},
   "outputs": [],
   "source": [
    "#wumpus_kb.ask_if_true(~P22)"
   ]
  },
  {
   "cell_type": "code",
   "execution_count": 21,
   "metadata": {},
   "outputs": [],
   "source": [
    "#wumpus_kb.tell(B11 | '<=>' | ((P12 | P21)))\n",
    "#wumpus_kb.tell(B21 | '<=>' | ((P11 | P22 | P31)))"
   ]
  },
  {
   "cell_type": "code",
   "execution_count": 22,
   "metadata": {},
   "outputs": [],
   "source": [
    "#wumpus_kb.clauses"
   ]
  },
  {
   "cell_type": "code",
   "execution_count": 23,
   "metadata": {},
   "outputs": [
    {
     "data": {
      "text/plain": [
       "'P11,P12,P13,P21,P22,P23,P31,P32,P33,B11,B12,B13,B21,B22,B23,B31,B32,B33,W11,W12,W13,W21,W22,W23,W31,W32,W33,S11,S12,S13,S21,S22,S23,S31,S32,S33'"
      ]
     },
     "execution_count": 23,
     "metadata": {},
     "output_type": "execute_result"
    }
   ],
   "source": [
    "char=['P','B','W','S']\n",
    "abc=''\n",
    "ind=[1,2,3]\n",
    "for i in char:\n",
    "    for x in ind:\n",
    "        for y in ind:\n",
    "            abc=abc+(str(i)+str(x)+str(y))+','\n",
    "abc=abc[0:-1]\n",
    "abc"
   ]
  },
  {
   "cell_type": "code",
   "execution_count": 24,
   "metadata": {},
   "outputs": [],
   "source": [
    "P11,P12,P13,P21,P22,P23,P31,P32,P33,B11,B12,B13,B21,B22,B23,B31,B32,B33,W11,W12,W13,W21,W22,W23,W31,W32,W33,S11,S12,S13,S21,S22,S23,S31,S32,S33=expr(abc)"
   ]
  },
  {
   "cell_type": "code",
   "execution_count": 25,
   "metadata": {},
   "outputs": [],
   "source": [
    "wumpus_kb.tell(B11 | '<=>' | ((P12 | P21)))\n",
    "wumpus_kb.tell(B31 | '<=>' | ((P32 | P21)))\n",
    "wumpus_kb.tell(B13 | '<=>' | ((P12 | P23)))\n",
    "wumpus_kb.tell(B33 | '<=>' | ((P23 | P32)))\n",
    "wumpus_kb.tell(B12 | '<=>' | ((P11 | P22 | P13)))\n",
    "wumpus_kb.tell(B21 | '<=>' | ((P11 | P22 | P31)))\n",
    "wumpus_kb.tell(B32 | '<=>' | ((P31 | P22 | P33)))\n",
    "wumpus_kb.tell(B23 | '<=>' | ((P13 | P22 | P33)))\n",
    "wumpus_kb.tell(B22 | '<=>' | ((P21 | P12 | P23 | P32)))"
   ]
  },
  {
   "cell_type": "code",
   "execution_count": 26,
   "metadata": {},
   "outputs": [],
   "source": [
    "wumpus_kb.tell(S11 | '<=>' | ((W12 | W21)))\n",
    "wumpus_kb.tell(S31 | '<=>' | ((W32 | W21)))\n",
    "wumpus_kb.tell(S13 | '<=>' | ((W12 | W23)))\n",
    "wumpus_kb.tell(S33 | '<=>' | ((W23 | W32)))\n",
    "wumpus_kb.tell(S12 | '<=>' | ((W11 | W22 | W13)))\n",
    "wumpus_kb.tell(S21 | '<=>' | ((W11 | W22 | W31)))\n",
    "wumpus_kb.tell(S32 | '<=>' | ((W31 | W22 | W33)))\n",
    "wumpus_kb.tell(S23 | '<=>' | ((W13 | W22 | W33)))\n",
    "wumpus_kb.tell(S22 | '<=>' | ((W21 | W12 | W23 | W32)))"
   ]
  },
  {
   "cell_type": "code",
   "execution_count": null,
   "metadata": {},
   "outputs": [],
   "source": []
  }
 ],
 "metadata": {
  "kernelspec": {
   "display_name": "Python 3.7.13 ('Directml')",
   "language": "python",
   "name": "python3"
  },
  "language_info": {
   "codemirror_mode": {
    "name": "ipython",
    "version": 3
   },
   "file_extension": ".py",
   "mimetype": "text/x-python",
   "name": "python",
   "nbconvert_exporter": "python",
   "pygments_lexer": "ipython3",
   "version": "3.7.13"
  },
  "vscode": {
   "interpreter": {
    "hash": "367420236152cb6c898d653af277ac09c496e9c6d105fe2a08d60c061a19c7c7"
   }
  }
 },
 "nbformat": 4,
 "nbformat_minor": 4
}
